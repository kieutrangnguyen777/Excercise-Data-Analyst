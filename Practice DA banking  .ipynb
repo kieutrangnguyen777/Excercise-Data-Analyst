{
 "cells": [
  {
   "cell_type": "code",
   "execution_count": 4,
   "id": "7274b04f",
   "metadata": {},
   "outputs": [],
   "source": [
    "import pandas as pd\n",
    "import numpy as np\n",
    "import matplotlib.pyplot as plt"
   ]
  },
  {
   "cell_type": "code",
   "execution_count": 5,
   "id": "a2970a48",
   "metadata": {},
   "outputs": [],
   "source": [
    "df=pd.read_csv(\"S2_DataFile(2).csv\")"
   ]
  },
  {
   "cell_type": "code",
   "execution_count": 6,
   "id": "4f00aba6",
   "metadata": {},
   "outputs": [
    {
     "name": "stdout",
     "output_type": "stream",
     "text": [
      "<class 'pandas.core.frame.DataFrame'>\n",
      "RangeIndex: 500 entries, 0 to 499\n",
      "Data columns (total 5 columns):\n",
      " #   Column      Non-Null Count  Dtype \n",
      "---  ------      --------------  ----- \n",
      " 0   BRANCH_ID   500 non-null    object\n",
      " 1   CHANNEL_ID  500 non-null    object\n",
      " 2   AMOUNT      500 non-null    int64 \n",
      " 3   TRAN_TYPE   500 non-null    object\n",
      " 4   TRAN_TIME   500 non-null    object\n",
      "dtypes: int64(1), object(4)\n",
      "memory usage: 19.7+ KB\n"
     ]
    }
   ],
   "source": [
    "df.info()"
   ]
  },
  {
   "cell_type": "code",
   "execution_count": 7,
   "id": "6bb35565",
   "metadata": {},
   "outputs": [
    {
     "data": {
      "text/html": [
       "<div>\n",
       "<style scoped>\n",
       "    .dataframe tbody tr th:only-of-type {\n",
       "        vertical-align: middle;\n",
       "    }\n",
       "\n",
       "    .dataframe tbody tr th {\n",
       "        vertical-align: top;\n",
       "    }\n",
       "\n",
       "    .dataframe thead th {\n",
       "        text-align: right;\n",
       "    }\n",
       "</style>\n",
       "<table border=\"1\" class=\"dataframe\">\n",
       "  <thead>\n",
       "    <tr style=\"text-align: right;\">\n",
       "      <th></th>\n",
       "      <th>BRANCH_ID</th>\n",
       "      <th>CHANNEL_ID</th>\n",
       "      <th>AMOUNT</th>\n",
       "      <th>TRAN_TYPE</th>\n",
       "      <th>TRAN_TIME</th>\n",
       "    </tr>\n",
       "  </thead>\n",
       "  <tbody>\n",
       "    <tr>\n",
       "      <th>0</th>\n",
       "      <td>BR0001</td>\n",
       "      <td>MOBILE</td>\n",
       "      <td>3020080</td>\n",
       "      <td>BOOKING ORDER</td>\n",
       "      <td>12/01/2019 1:11</td>\n",
       "    </tr>\n",
       "    <tr>\n",
       "      <th>1</th>\n",
       "      <td>BR0002</td>\n",
       "      <td>ATM</td>\n",
       "      <td>2001100</td>\n",
       "      <td>CASH TRANSACTIONS</td>\n",
       "      <td>12/01/2019 11:01</td>\n",
       "    </tr>\n",
       "    <tr>\n",
       "      <th>2</th>\n",
       "      <td>BR0004</td>\n",
       "      <td>MOBILE</td>\n",
       "      <td>2140140</td>\n",
       "      <td>BOOKING ORDER</td>\n",
       "      <td>12/01/2019 1:11</td>\n",
       "    </tr>\n",
       "    <tr>\n",
       "      <th>3</th>\n",
       "      <td>BR0002</td>\n",
       "      <td>INTERNET</td>\n",
       "      <td>4293000</td>\n",
       "      <td>FINANCIAL POSTING</td>\n",
       "      <td>12/01/2019 6:50</td>\n",
       "    </tr>\n",
       "    <tr>\n",
       "      <th>4</th>\n",
       "      <td>BR0003</td>\n",
       "      <td>MOBILE</td>\n",
       "      <td>3046430</td>\n",
       "      <td>BOOKING ORDER</td>\n",
       "      <td>12/01/2019 1:11</td>\n",
       "    </tr>\n",
       "  </tbody>\n",
       "</table>\n",
       "</div>"
      ],
      "text/plain": [
       "  BRANCH_ID CHANNEL_ID   AMOUNT          TRAN_TYPE         TRAN_TIME\n",
       "0    BR0001     MOBILE  3020080      BOOKING ORDER   12/01/2019 1:11\n",
       "1    BR0002        ATM  2001100  CASH TRANSACTIONS  12/01/2019 11:01\n",
       "2    BR0004     MOBILE  2140140      BOOKING ORDER   12/01/2019 1:11\n",
       "3    BR0002   INTERNET  4293000  FINANCIAL POSTING   12/01/2019 6:50\n",
       "4    BR0003     MOBILE  3046430      BOOKING ORDER   12/01/2019 1:11"
      ]
     },
     "execution_count": 7,
     "metadata": {},
     "output_type": "execute_result"
    }
   ],
   "source": [
    "df.head()"
   ]
  },
  {
   "cell_type": "code",
   "execution_count": 8,
   "id": "c156c3c8",
   "metadata": {},
   "outputs": [
    {
     "data": {
      "text/plain": [
       "dtype('O')"
      ]
     },
     "execution_count": 8,
     "metadata": {},
     "output_type": "execute_result"
    }
   ],
   "source": [
    "df['TRAN_TIME'].dtypes"
   ]
  },
  {
   "cell_type": "code",
   "execution_count": 9,
   "id": "7ee26344",
   "metadata": {},
   "outputs": [
    {
     "name": "stdout",
     "output_type": "stream",
     "text": [
      "object\n"
     ]
    }
   ],
   "source": [
    "print(df['TRAN_TIME'].dtypes)"
   ]
  },
  {
   "cell_type": "code",
   "execution_count": 10,
   "id": "219009bb",
   "metadata": {},
   "outputs": [],
   "source": [
    "df['TRAN_TIME']=pd.to_datetime(df['TRAN_TIME'],format='%d/%m/%Y %H:%M')"
   ]
  },
  {
   "cell_type": "code",
   "execution_count": 11,
   "id": "8f0fcc6a",
   "metadata": {},
   "outputs": [
    {
     "name": "stdout",
     "output_type": "stream",
     "text": [
      "datetime64[ns]\n"
     ]
    }
   ],
   "source": [
    "print(df['TRAN_TIME'].dtypes)"
   ]
  },
  {
   "cell_type": "code",
   "execution_count": 12,
   "id": "8ec8fd36",
   "metadata": {},
   "outputs": [
    {
     "name": "stdout",
     "output_type": "stream",
     "text": [
      "int64\n"
     ]
    }
   ],
   "source": [
    "print(df['AMOUNT'].dtypes)"
   ]
  },
  {
   "cell_type": "code",
   "execution_count": 13,
   "id": "9f3a8861",
   "metadata": {},
   "outputs": [
    {
     "name": "stdout",
     "output_type": "stream",
     "text": [
      "object\n"
     ]
    }
   ],
   "source": [
    "print(df['BRANCH_ID'].dtypes)"
   ]
  },
  {
   "cell_type": "code",
   "execution_count": 14,
   "id": "1bdd8957",
   "metadata": {},
   "outputs": [
    {
     "name": "stdout",
     "output_type": "stream",
     "text": [
      "count    5.000000e+02\n",
      "mean     3.529194e+06\n",
      "std      1.602360e+07\n",
      "min     -2.000000e+06\n",
      "25%      7.883650e+04\n",
      "50%      1.002200e+06\n",
      "75%      3.000000e+06\n",
      "max      3.000000e+08\n",
      "Name: AMOUNT, dtype: float64\n"
     ]
    }
   ],
   "source": [
    "print(df['AMOUNT'].describe())"
   ]
  },
  {
   "cell_type": "code",
   "execution_count": 15,
   "id": "223dafb6",
   "metadata": {},
   "outputs": [],
   "source": [
    "mask=df['AMOUNT']>0"
   ]
  },
  {
   "cell_type": "code",
   "execution_count": 16,
   "id": "76196479",
   "metadata": {},
   "outputs": [],
   "source": [
    "df=df[mask]"
   ]
  },
  {
   "cell_type": "code",
   "execution_count": 17,
   "id": "b225fa5b",
   "metadata": {},
   "outputs": [
    {
     "name": "stdout",
     "output_type": "stream",
     "text": [
      "<class 'pandas.core.frame.DataFrame'>\n",
      "Int64Index: 498 entries, 0 to 499\n",
      "Data columns (total 5 columns):\n",
      " #   Column      Non-Null Count  Dtype         \n",
      "---  ------      --------------  -----         \n",
      " 0   BRANCH_ID   498 non-null    object        \n",
      " 1   CHANNEL_ID  498 non-null    object        \n",
      " 2   AMOUNT      498 non-null    int64         \n",
      " 3   TRAN_TYPE   498 non-null    object        \n",
      " 4   TRAN_TIME   498 non-null    datetime64[ns]\n",
      "dtypes: datetime64[ns](1), int64(1), object(3)\n",
      "memory usage: 23.3+ KB\n"
     ]
    }
   ],
   "source": [
    "df.info()"
   ]
  },
  {
   "cell_type": "code",
   "execution_count": 18,
   "id": "0d05b027",
   "metadata": {},
   "outputs": [
    {
     "name": "stdout",
     "output_type": "stream",
     "text": [
      "count    4.980000e+02\n",
      "mean     3.547383e+06\n",
      "std      1.605310e+07\n",
      "min      1.000000e+01\n",
      "25%      8.418000e+04\n",
      "50%      1.006600e+06\n",
      "75%      3.000000e+06\n",
      "max      3.000000e+08\n",
      "Name: AMOUNT, dtype: float64\n"
     ]
    }
   ],
   "source": [
    "print(df['AMOUNT'].describe())"
   ]
  },
  {
   "cell_type": "code",
   "execution_count": 19,
   "id": "e27d3f6a",
   "metadata": {},
   "outputs": [
    {
     "name": "stdout",
     "output_type": "stream",
     "text": [
      "datetime64[ns]\n"
     ]
    }
   ],
   "source": [
    "print(df['TRAN_TIME'].dtypes)"
   ]
  },
  {
   "cell_type": "code",
   "execution_count": 20,
   "id": "febcaec2",
   "metadata": {},
   "outputs": [],
   "source": [
    "df['TRAN_HOUR']=df['TRAN_TIME'].dt.strftime('%H')"
   ]
  },
  {
   "cell_type": "code",
   "execution_count": 21,
   "id": "b92431c4",
   "metadata": {},
   "outputs": [
    {
     "name": "stdout",
     "output_type": "stream",
     "text": [
      "    TRAN_HOUR           TRAN_TIME\n",
      "0          01 2019-01-12 01:11:00\n",
      "1          11 2019-01-12 11:01:00\n",
      "2          01 2019-01-12 01:11:00\n",
      "3          06 2019-01-12 06:50:00\n",
      "4          01 2019-01-12 01:11:00\n",
      "..        ...                 ...\n",
      "495        08 2019-01-12 08:45:00\n",
      "496        21 2019-04-11 21:13:00\n",
      "497        10 2019-01-12 10:53:00\n",
      "498        08 2019-01-12 08:58:00\n",
      "499        09 2019-01-12 09:13:00\n",
      "\n",
      "[498 rows x 2 columns]\n"
     ]
    }
   ],
   "source": [
    "print(df[['TRAN_HOUR','TRAN_TIME']])"
   ]
  },
  {
   "cell_type": "code",
   "execution_count": 22,
   "id": "ffd9065d",
   "metadata": {},
   "outputs": [
    {
     "name": "stdout",
     "output_type": "stream",
     "text": [
      "  CHANNEL_ID  SUM_BYCHANNEL\n",
      "0        ATM      179502250\n",
      "1   INTERNET      768629241\n",
      "2     MOBILE      818465352\n"
     ]
    }
   ],
   "source": [
    "SUM_BYCHANNEL=df.groupby(df['CHANNEL_ID'])['AMOUNT'].sum().reset_index(name='SUM_BYCHANNEL')\n",
    "print(SUM_BYCHANNEL)"
   ]
  },
  {
   "cell_type": "code",
   "execution_count": 23,
   "id": "34a3f722",
   "metadata": {},
   "outputs": [
    {
     "data": {
      "image/png": "[encoded data removed]",
      "text/plain": [
       "<Figure size 576x576 with 1 Axes>"
      ]
     },
     "metadata": {},
     "output_type": "display_data"
    }
   ],
   "source": [
    "SUM_BYCHANNEL = SUM_BYCHANNEL.set_index('CHANNEL_ID')\n",
    "plot = SUM_BYCHANNEL.plot.pie(y='SUM_BYCHANNEL',subplots=True, figsize=(8, 8))"
   ]
  },
  {
   "cell_type": "code",
   "execution_count": 48,
   "id": "966cf5df",
   "metadata": {},
   "outputs": [
    {
     "name": "stdout",
     "output_type": "stream",
     "text": [
      "  CHANNEL_ID  COUNTS\n",
      "0        ATM      98\n",
      "1   INTERNET      72\n",
      "2     MOBILE     328\n"
     ]
    }
   ],
   "source": [
    "count_bychannel = df.groupby(['CHANNEL_ID']).size().reset_index(name='COUNTS')\n",
    "print(count_bychannel)"
   ]
  },
  {
   "cell_type": "code",
   "execution_count": 49,
   "id": "a211c763",
   "metadata": {},
   "outputs": [
    {
     "name": "stdout",
     "output_type": "stream",
     "text": [
      "  CHANNEL_ID  SUM_BYCHANNEL  COUNTS\n",
      "0        ATM      179502250      98\n",
      "1   INTERNET      768629241      72\n",
      "2     MOBILE      818465352     328\n"
     ]
    }
   ],
   "source": [
    "doanhso = SUM_BYCHANNEL.merge(count_bychannel, on=['CHANNEL_ID'])\n",
    "print(doanhso)\n",
    "\n"
   ]
  },
  {
   "cell_type": "code",
   "execution_count": 26,
   "id": "68f9eccb",
   "metadata": {},
   "outputs": [
    {
     "name": "stdout",
     "output_type": "stream",
     "text": [
      "            SUM_BYCHANNEL  COUNTS\n",
      "CHANNEL_ID                       \n",
      "ATM             179502250      98\n",
      "INTERNET        768629241      72\n",
      "MOBILE          818465352     328\n"
     ]
    }
   ],
   "source": [
    "doanhso = doanhso.set_index('CHANNEL_ID')\n",
    "print(doanhso)"
   ]
  },
  {
   "cell_type": "code",
   "execution_count": 37,
   "id": "3153084f",
   "metadata": {},
   "outputs": [],
   "source": [
    "ds_max=doanhso['SUM_BYCHANNEL'].sum()\n",
    "doanhso['%DOANHSO'] =doanhso['SUM_BYCHANNEL']*100/ds_max"
   ]
  },
  {
   "cell_type": "code",
   "execution_count": 38,
   "id": "b20f2302",
   "metadata": {},
   "outputs": [],
   "source": [
    "gd_max=doanhso['COUNTS'].sum()\n",
    "doanhso['%SOLUONG']=doanhso['COUNTS']*100/gd_max"
   ]
  },
  {
   "cell_type": "code",
   "execution_count": 39,
   "id": "e8e642af",
   "metadata": {},
   "outputs": [
    {
     "name": "stdout",
     "output_type": "stream",
     "text": [
      "            SUM_BYCHANNEL  COUNTS   %DOANHSO   %SOLUONG\n",
      "CHANNEL_ID                                             \n",
      "ATM             179502250      98  10.160906  19.678715\n",
      "INTERNET        768629241      72  43.509035  14.457831\n",
      "MOBILE          818465352     328  46.330059  65.863454\n"
     ]
    }
   ],
   "source": [
    "print(doanhso)"
   ]
  },
  {
   "cell_type": "code",
   "execution_count": 40,
   "id": "123342ba",
   "metadata": {},
   "outputs": [
    {
     "data": {
      "image/png": "[encoded data removed]",
      "text/plain": [
       "<Figure size 432x288 with 1 Axes>"
      ]
     },
     "metadata": {
      "needs_background": "light"
     },
     "output_type": "display_data"
    }
   ],
   "source": [
    "doanhso.plot.bar( y=['%SOLUONG','%DOANHSO'])\n",
    "plt.title(\"Tỷ lệ doanh số và số lượng giao dịch theo các kênh\", fontsize=33)\n",
    "plt.ylabel('tỷ lệ %')\n",
    "plt.xticks(rotation=0)\n",
    "plt.show()"
   ]
  },
  {
   "cell_type": "code",
   "execution_count": null,
   "id": "0f4c8b0f",
   "metadata": {},
   "outputs": [],
   "source": []
  },
  {
   "cell_type": "code",
   "execution_count": null,
   "id": "5ade4daf",
   "metadata": {},
   "outputs": [],
   "source": []
  },
  {
   "cell_type": "code",
   "execution_count": 44,
   "id": "e0bf25cc",
   "metadata": {},
   "outputs": [
    {
     "name": "stdout",
     "output_type": "stream",
     "text": [
      "89\n"
     ]
    }
   ],
   "source": [
    "# 9. VE BIEU DO LUU LUONG GIAO DICH CÁC KENH TRUNG BINH THEO GIO MOI NGAY\n",
    "# Tính số ngày trong dữ liệu\n",
    "number_of_days = (df['TRAN_TIME'].max().date() - df['TRAN_TIME'].min().date()).days\n",
    "print(number_of_days)"
   ]
  },
  {
   "cell_type": "code",
   "execution_count": 45,
   "id": "2f954d1a",
   "metadata": {},
   "outputs": [],
   "source": [
    "# Trích ra 2 cột kênh và giờ\n",
    "df = df[['CHANNEL_ID', 'TRAN_HOUR']]"
   ]
  },
  {
   "cell_type": "code",
   "execution_count": 46,
   "id": "4b828cbf",
   "metadata": {},
   "outputs": [
    {
     "data": {
      "text/html": [
       "<div>\n",
       "<style scoped>\n",
       "    .dataframe tbody tr th:only-of-type {\n",
       "        vertical-align: middle;\n",
       "    }\n",
       "\n",
       "    .dataframe tbody tr th {\n",
       "        vertical-align: top;\n",
       "    }\n",
       "\n",
       "    .dataframe thead th {\n",
       "        text-align: right;\n",
       "    }\n",
       "</style>\n",
       "<table border=\"1\" class=\"dataframe\">\n",
       "  <thead>\n",
       "    <tr style=\"text-align: right;\">\n",
       "      <th></th>\n",
       "      <th>CHANNEL_ID</th>\n",
       "      <th>TRAN_HOUR</th>\n",
       "    </tr>\n",
       "  </thead>\n",
       "  <tbody>\n",
       "    <tr>\n",
       "      <th>0</th>\n",
       "      <td>MOBILE</td>\n",
       "      <td>01</td>\n",
       "    </tr>\n",
       "    <tr>\n",
       "      <th>1</th>\n",
       "      <td>ATM</td>\n",
       "      <td>11</td>\n",
       "    </tr>\n",
       "    <tr>\n",
       "      <th>2</th>\n",
       "      <td>MOBILE</td>\n",
       "      <td>01</td>\n",
       "    </tr>\n",
       "    <tr>\n",
       "      <th>3</th>\n",
       "      <td>INTERNET</td>\n",
       "      <td>06</td>\n",
       "    </tr>\n",
       "    <tr>\n",
       "      <th>4</th>\n",
       "      <td>MOBILE</td>\n",
       "      <td>01</td>\n",
       "    </tr>\n",
       "    <tr>\n",
       "      <th>...</th>\n",
       "      <td>...</td>\n",
       "      <td>...</td>\n",
       "    </tr>\n",
       "    <tr>\n",
       "      <th>495</th>\n",
       "      <td>ATM</td>\n",
       "      <td>08</td>\n",
       "    </tr>\n",
       "    <tr>\n",
       "      <th>496</th>\n",
       "      <td>MOBILE</td>\n",
       "      <td>21</td>\n",
       "    </tr>\n",
       "    <tr>\n",
       "      <th>497</th>\n",
       "      <td>MOBILE</td>\n",
       "      <td>10</td>\n",
       "    </tr>\n",
       "    <tr>\n",
       "      <th>498</th>\n",
       "      <td>INTERNET</td>\n",
       "      <td>08</td>\n",
       "    </tr>\n",
       "    <tr>\n",
       "      <th>499</th>\n",
       "      <td>INTERNET</td>\n",
       "      <td>09</td>\n",
       "    </tr>\n",
       "  </tbody>\n",
       "</table>\n",
       "<p>498 rows × 2 columns</p>\n",
       "</div>"
      ],
      "text/plain": [
       "    CHANNEL_ID TRAN_HOUR\n",
       "0       MOBILE        01\n",
       "1          ATM        11\n",
       "2       MOBILE        01\n",
       "3     INTERNET        06\n",
       "4       MOBILE        01\n",
       "..         ...       ...\n",
       "495        ATM        08\n",
       "496     MOBILE        21\n",
       "497     MOBILE        10\n",
       "498   INTERNET        08\n",
       "499   INTERNET        09\n",
       "\n",
       "[498 rows x 2 columns]"
      ]
     },
     "execution_count": 46,
     "metadata": {},
     "output_type": "execute_result"
    }
   ],
   "source": [
    "df"
   ]
  },
  {
   "cell_type": "code",
   "execution_count": 60,
   "id": "64990ff0",
   "metadata": {},
   "outputs": [],
   "source": [
    "# Group và tính số lượng từng kênh trong từng giờ\n",
    "count_by_CNNTime = df.groupby(['CHANNEL_ID','TRAN_HOUR']).size().reset_index(name='COUNTS_CNNTIME')"
   ]
  },
  {
   "cell_type": "code",
   "execution_count": 61,
   "id": "4579f2c6",
   "metadata": {},
   "outputs": [],
   "source": [
    "# Áp dung pivot table để xoay dữ liệu\n",
    "df_plot3 = pd.pivot_table(count_by_CNNTime, values='COUNTS_CNNTIME', index=['TRAN_HOUR'], columns=['CHANNEL_ID'])"
   ]
  },
  {
   "cell_type": "code",
   "execution_count": 62,
   "id": "15970f3b",
   "metadata": {},
   "outputs": [
    {
     "data": {
      "text/html": [
       "<div>\n",
       "<style scoped>\n",
       "    .dataframe tbody tr th:only-of-type {\n",
       "        vertical-align: middle;\n",
       "    }\n",
       "\n",
       "    .dataframe tbody tr th {\n",
       "        vertical-align: top;\n",
       "    }\n",
       "\n",
       "    .dataframe thead th {\n",
       "        text-align: right;\n",
       "    }\n",
       "</style>\n",
       "<table border=\"1\" class=\"dataframe\">\n",
       "  <thead>\n",
       "    <tr style=\"text-align: right;\">\n",
       "      <th>CHANNEL_ID</th>\n",
       "      <th>ATM</th>\n",
       "      <th>INTERNET</th>\n",
       "      <th>MOBILE</th>\n",
       "    </tr>\n",
       "    <tr>\n",
       "      <th>TRAN_HOUR</th>\n",
       "      <th></th>\n",
       "      <th></th>\n",
       "      <th></th>\n",
       "    </tr>\n",
       "  </thead>\n",
       "  <tbody>\n",
       "    <tr>\n",
       "      <th>00</th>\n",
       "      <td>NaN</td>\n",
       "      <td>1.0</td>\n",
       "      <td>1.0</td>\n",
       "    </tr>\n",
       "    <tr>\n",
       "      <th>01</th>\n",
       "      <td>NaN</td>\n",
       "      <td>3.0</td>\n",
       "      <td>194.0</td>\n",
       "    </tr>\n",
       "    <tr>\n",
       "      <th>02</th>\n",
       "      <td>NaN</td>\n",
       "      <td>NaN</td>\n",
       "      <td>1.0</td>\n",
       "    </tr>\n",
       "    <tr>\n",
       "      <th>04</th>\n",
       "      <td>NaN</td>\n",
       "      <td>NaN</td>\n",
       "      <td>1.0</td>\n",
       "    </tr>\n",
       "    <tr>\n",
       "      <th>06</th>\n",
       "      <td>17.0</td>\n",
       "      <td>3.0</td>\n",
       "      <td>4.0</td>\n",
       "    </tr>\n",
       "    <tr>\n",
       "      <th>07</th>\n",
       "      <td>9.0</td>\n",
       "      <td>3.0</td>\n",
       "      <td>4.0</td>\n",
       "    </tr>\n",
       "    <tr>\n",
       "      <th>08</th>\n",
       "      <td>19.0</td>\n",
       "      <td>7.0</td>\n",
       "      <td>19.0</td>\n",
       "    </tr>\n",
       "    <tr>\n",
       "      <th>09</th>\n",
       "      <td>6.0</td>\n",
       "      <td>9.0</td>\n",
       "      <td>18.0</td>\n",
       "    </tr>\n",
       "    <tr>\n",
       "      <th>10</th>\n",
       "      <td>19.0</td>\n",
       "      <td>6.0</td>\n",
       "      <td>18.0</td>\n",
       "    </tr>\n",
       "    <tr>\n",
       "      <th>11</th>\n",
       "      <td>10.0</td>\n",
       "      <td>7.0</td>\n",
       "      <td>7.0</td>\n",
       "    </tr>\n",
       "    <tr>\n",
       "      <th>12</th>\n",
       "      <td>2.0</td>\n",
       "      <td>8.0</td>\n",
       "      <td>9.0</td>\n",
       "    </tr>\n",
       "    <tr>\n",
       "      <th>13</th>\n",
       "      <td>6.0</td>\n",
       "      <td>7.0</td>\n",
       "      <td>11.0</td>\n",
       "    </tr>\n",
       "    <tr>\n",
       "      <th>14</th>\n",
       "      <td>3.0</td>\n",
       "      <td>2.0</td>\n",
       "      <td>15.0</td>\n",
       "    </tr>\n",
       "    <tr>\n",
       "      <th>15</th>\n",
       "      <td>NaN</td>\n",
       "      <td>NaN</td>\n",
       "      <td>3.0</td>\n",
       "    </tr>\n",
       "    <tr>\n",
       "      <th>20</th>\n",
       "      <td>NaN</td>\n",
       "      <td>1.0</td>\n",
       "      <td>1.0</td>\n",
       "    </tr>\n",
       "    <tr>\n",
       "      <th>21</th>\n",
       "      <td>7.0</td>\n",
       "      <td>8.0</td>\n",
       "      <td>13.0</td>\n",
       "    </tr>\n",
       "    <tr>\n",
       "      <th>22</th>\n",
       "      <td>NaN</td>\n",
       "      <td>5.0</td>\n",
       "      <td>6.0</td>\n",
       "    </tr>\n",
       "    <tr>\n",
       "      <th>23</th>\n",
       "      <td>NaN</td>\n",
       "      <td>2.0</td>\n",
       "      <td>3.0</td>\n",
       "    </tr>\n",
       "  </tbody>\n",
       "</table>\n",
       "</div>"
      ],
      "text/plain": [
       "CHANNEL_ID   ATM  INTERNET  MOBILE\n",
       "TRAN_HOUR                         \n",
       "00           NaN       1.0     1.0\n",
       "01           NaN       3.0   194.0\n",
       "02           NaN       NaN     1.0\n",
       "04           NaN       NaN     1.0\n",
       "06          17.0       3.0     4.0\n",
       "07           9.0       3.0     4.0\n",
       "08          19.0       7.0    19.0\n",
       "09           6.0       9.0    18.0\n",
       "10          19.0       6.0    18.0\n",
       "11          10.0       7.0     7.0\n",
       "12           2.0       8.0     9.0\n",
       "13           6.0       7.0    11.0\n",
       "14           3.0       2.0    15.0\n",
       "15           NaN       NaN     3.0\n",
       "20           NaN       1.0     1.0\n",
       "21           7.0       8.0    13.0\n",
       "22           NaN       5.0     6.0\n",
       "23           NaN       2.0     3.0"
      ]
     },
     "execution_count": 62,
     "metadata": {},
     "output_type": "execute_result"
    }
   ],
   "source": [
    "df_plot3"
   ]
  },
  {
   "cell_type": "code",
   "execution_count": 63,
   "id": "a729b26d",
   "metadata": {},
   "outputs": [],
   "source": [
    "# Xử lý NaN\n",
    "df_plot3['ATM'] = df_plot3['ATM'].fillna(0)\n",
    "df_plot3['INTERNET'] = df_plot3['INTERNET'].fillna(0)\n",
    "df_plot3['MOBILE'] = df_plot3['MOBILE'].fillna(0)"
   ]
  },
  {
   "cell_type": "code",
   "execution_count": 64,
   "id": "05f62b21",
   "metadata": {},
   "outputs": [
    {
     "data": {
      "text/html": [
       "<div>\n",
       "<style scoped>\n",
       "    .dataframe tbody tr th:only-of-type {\n",
       "        vertical-align: middle;\n",
       "    }\n",
       "\n",
       "    .dataframe tbody tr th {\n",
       "        vertical-align: top;\n",
       "    }\n",
       "\n",
       "    .dataframe thead th {\n",
       "        text-align: right;\n",
       "    }\n",
       "</style>\n",
       "<table border=\"1\" class=\"dataframe\">\n",
       "  <thead>\n",
       "    <tr style=\"text-align: right;\">\n",
       "      <th>CHANNEL_ID</th>\n",
       "      <th>ATM</th>\n",
       "      <th>INTERNET</th>\n",
       "      <th>MOBILE</th>\n",
       "    </tr>\n",
       "    <tr>\n",
       "      <th>TRAN_HOUR</th>\n",
       "      <th></th>\n",
       "      <th></th>\n",
       "      <th></th>\n",
       "    </tr>\n",
       "  </thead>\n",
       "  <tbody>\n",
       "    <tr>\n",
       "      <th>00</th>\n",
       "      <td>0.0</td>\n",
       "      <td>1.0</td>\n",
       "      <td>1.0</td>\n",
       "    </tr>\n",
       "    <tr>\n",
       "      <th>01</th>\n",
       "      <td>0.0</td>\n",
       "      <td>3.0</td>\n",
       "      <td>194.0</td>\n",
       "    </tr>\n",
       "    <tr>\n",
       "      <th>02</th>\n",
       "      <td>0.0</td>\n",
       "      <td>0.0</td>\n",
       "      <td>1.0</td>\n",
       "    </tr>\n",
       "    <tr>\n",
       "      <th>04</th>\n",
       "      <td>0.0</td>\n",
       "      <td>0.0</td>\n",
       "      <td>1.0</td>\n",
       "    </tr>\n",
       "    <tr>\n",
       "      <th>06</th>\n",
       "      <td>17.0</td>\n",
       "      <td>3.0</td>\n",
       "      <td>4.0</td>\n",
       "    </tr>\n",
       "    <tr>\n",
       "      <th>07</th>\n",
       "      <td>9.0</td>\n",
       "      <td>3.0</td>\n",
       "      <td>4.0</td>\n",
       "    </tr>\n",
       "    <tr>\n",
       "      <th>08</th>\n",
       "      <td>19.0</td>\n",
       "      <td>7.0</td>\n",
       "      <td>19.0</td>\n",
       "    </tr>\n",
       "    <tr>\n",
       "      <th>09</th>\n",
       "      <td>6.0</td>\n",
       "      <td>9.0</td>\n",
       "      <td>18.0</td>\n",
       "    </tr>\n",
       "    <tr>\n",
       "      <th>10</th>\n",
       "      <td>19.0</td>\n",
       "      <td>6.0</td>\n",
       "      <td>18.0</td>\n",
       "    </tr>\n",
       "    <tr>\n",
       "      <th>11</th>\n",
       "      <td>10.0</td>\n",
       "      <td>7.0</td>\n",
       "      <td>7.0</td>\n",
       "    </tr>\n",
       "    <tr>\n",
       "      <th>12</th>\n",
       "      <td>2.0</td>\n",
       "      <td>8.0</td>\n",
       "      <td>9.0</td>\n",
       "    </tr>\n",
       "    <tr>\n",
       "      <th>13</th>\n",
       "      <td>6.0</td>\n",
       "      <td>7.0</td>\n",
       "      <td>11.0</td>\n",
       "    </tr>\n",
       "    <tr>\n",
       "      <th>14</th>\n",
       "      <td>3.0</td>\n",
       "      <td>2.0</td>\n",
       "      <td>15.0</td>\n",
       "    </tr>\n",
       "    <tr>\n",
       "      <th>15</th>\n",
       "      <td>0.0</td>\n",
       "      <td>0.0</td>\n",
       "      <td>3.0</td>\n",
       "    </tr>\n",
       "    <tr>\n",
       "      <th>20</th>\n",
       "      <td>0.0</td>\n",
       "      <td>1.0</td>\n",
       "      <td>1.0</td>\n",
       "    </tr>\n",
       "    <tr>\n",
       "      <th>21</th>\n",
       "      <td>7.0</td>\n",
       "      <td>8.0</td>\n",
       "      <td>13.0</td>\n",
       "    </tr>\n",
       "    <tr>\n",
       "      <th>22</th>\n",
       "      <td>0.0</td>\n",
       "      <td>5.0</td>\n",
       "      <td>6.0</td>\n",
       "    </tr>\n",
       "    <tr>\n",
       "      <th>23</th>\n",
       "      <td>0.0</td>\n",
       "      <td>2.0</td>\n",
       "      <td>3.0</td>\n",
       "    </tr>\n",
       "  </tbody>\n",
       "</table>\n",
       "</div>"
      ],
      "text/plain": [
       "CHANNEL_ID   ATM  INTERNET  MOBILE\n",
       "TRAN_HOUR                         \n",
       "00           0.0       1.0     1.0\n",
       "01           0.0       3.0   194.0\n",
       "02           0.0       0.0     1.0\n",
       "04           0.0       0.0     1.0\n",
       "06          17.0       3.0     4.0\n",
       "07           9.0       3.0     4.0\n",
       "08          19.0       7.0    19.0\n",
       "09           6.0       9.0    18.0\n",
       "10          19.0       6.0    18.0\n",
       "11          10.0       7.0     7.0\n",
       "12           2.0       8.0     9.0\n",
       "13           6.0       7.0    11.0\n",
       "14           3.0       2.0    15.0\n",
       "15           0.0       0.0     3.0\n",
       "20           0.0       1.0     1.0\n",
       "21           7.0       8.0    13.0\n",
       "22           0.0       5.0     6.0\n",
       "23           0.0       2.0     3.0"
      ]
     },
     "execution_count": 64,
     "metadata": {},
     "output_type": "execute_result"
    }
   ],
   "source": [
    "df_plot3"
   ]
  },
  {
   "cell_type": "code",
   "execution_count": 66,
   "id": "ee7a1309",
   "metadata": {},
   "outputs": [],
   "source": [
    "#Tính giá trị trung bình theo ngày\n",
    "df_plot3['ATM']  = df_plot3['ATM'] / number_of_days\n",
    "df_plot3['INTERNET'] = df_plot3['INTERNET'] / number_of_days\n",
    "df_plot3['MOBILE'] = df_plot3['MOBILE'] / number_of_days"
   ]
  },
  {
   "cell_type": "code",
   "execution_count": 67,
   "id": "94b870c7",
   "metadata": {},
   "outputs": [
    {
     "data": {
      "text/html": [
       "<div>\n",
       "<style scoped>\n",
       "    .dataframe tbody tr th:only-of-type {\n",
       "        vertical-align: middle;\n",
       "    }\n",
       "\n",
       "    .dataframe tbody tr th {\n",
       "        vertical-align: top;\n",
       "    }\n",
       "\n",
       "    .dataframe thead th {\n",
       "        text-align: right;\n",
       "    }\n",
       "</style>\n",
       "<table border=\"1\" class=\"dataframe\">\n",
       "  <thead>\n",
       "    <tr style=\"text-align: right;\">\n",
       "      <th>CHANNEL_ID</th>\n",
       "      <th>ATM</th>\n",
       "      <th>INTERNET</th>\n",
       "      <th>MOBILE</th>\n",
       "    </tr>\n",
       "    <tr>\n",
       "      <th>TRAN_HOUR</th>\n",
       "      <th></th>\n",
       "      <th></th>\n",
       "      <th></th>\n",
       "    </tr>\n",
       "  </thead>\n",
       "  <tbody>\n",
       "    <tr>\n",
       "      <th>00</th>\n",
       "      <td>0.000000</td>\n",
       "      <td>0.000126</td>\n",
       "      <td>0.000126</td>\n",
       "    </tr>\n",
       "    <tr>\n",
       "      <th>01</th>\n",
       "      <td>0.000000</td>\n",
       "      <td>0.000379</td>\n",
       "      <td>0.024492</td>\n",
       "    </tr>\n",
       "    <tr>\n",
       "      <th>02</th>\n",
       "      <td>0.000000</td>\n",
       "      <td>0.000000</td>\n",
       "      <td>0.000126</td>\n",
       "    </tr>\n",
       "    <tr>\n",
       "      <th>04</th>\n",
       "      <td>0.000000</td>\n",
       "      <td>0.000000</td>\n",
       "      <td>0.000126</td>\n",
       "    </tr>\n",
       "    <tr>\n",
       "      <th>06</th>\n",
       "      <td>0.002146</td>\n",
       "      <td>0.000379</td>\n",
       "      <td>0.000505</td>\n",
       "    </tr>\n",
       "    <tr>\n",
       "      <th>07</th>\n",
       "      <td>0.001136</td>\n",
       "      <td>0.000379</td>\n",
       "      <td>0.000505</td>\n",
       "    </tr>\n",
       "    <tr>\n",
       "      <th>08</th>\n",
       "      <td>0.002399</td>\n",
       "      <td>0.000884</td>\n",
       "      <td>0.002399</td>\n",
       "    </tr>\n",
       "    <tr>\n",
       "      <th>09</th>\n",
       "      <td>0.000757</td>\n",
       "      <td>0.001136</td>\n",
       "      <td>0.002272</td>\n",
       "    </tr>\n",
       "    <tr>\n",
       "      <th>10</th>\n",
       "      <td>0.002399</td>\n",
       "      <td>0.000757</td>\n",
       "      <td>0.002272</td>\n",
       "    </tr>\n",
       "    <tr>\n",
       "      <th>11</th>\n",
       "      <td>0.001262</td>\n",
       "      <td>0.000884</td>\n",
       "      <td>0.000884</td>\n",
       "    </tr>\n",
       "    <tr>\n",
       "      <th>12</th>\n",
       "      <td>0.000252</td>\n",
       "      <td>0.001010</td>\n",
       "      <td>0.001136</td>\n",
       "    </tr>\n",
       "    <tr>\n",
       "      <th>13</th>\n",
       "      <td>0.000757</td>\n",
       "      <td>0.000884</td>\n",
       "      <td>0.001389</td>\n",
       "    </tr>\n",
       "    <tr>\n",
       "      <th>14</th>\n",
       "      <td>0.000379</td>\n",
       "      <td>0.000252</td>\n",
       "      <td>0.001894</td>\n",
       "    </tr>\n",
       "    <tr>\n",
       "      <th>15</th>\n",
       "      <td>0.000000</td>\n",
       "      <td>0.000000</td>\n",
       "      <td>0.000379</td>\n",
       "    </tr>\n",
       "    <tr>\n",
       "      <th>20</th>\n",
       "      <td>0.000000</td>\n",
       "      <td>0.000126</td>\n",
       "      <td>0.000126</td>\n",
       "    </tr>\n",
       "    <tr>\n",
       "      <th>21</th>\n",
       "      <td>0.000884</td>\n",
       "      <td>0.001010</td>\n",
       "      <td>0.001641</td>\n",
       "    </tr>\n",
       "    <tr>\n",
       "      <th>22</th>\n",
       "      <td>0.000000</td>\n",
       "      <td>0.000631</td>\n",
       "      <td>0.000757</td>\n",
       "    </tr>\n",
       "    <tr>\n",
       "      <th>23</th>\n",
       "      <td>0.000000</td>\n",
       "      <td>0.000252</td>\n",
       "      <td>0.000379</td>\n",
       "    </tr>\n",
       "  </tbody>\n",
       "</table>\n",
       "</div>"
      ],
      "text/plain": [
       "CHANNEL_ID       ATM  INTERNET    MOBILE\n",
       "TRAN_HOUR                               \n",
       "00          0.000000  0.000126  0.000126\n",
       "01          0.000000  0.000379  0.024492\n",
       "02          0.000000  0.000000  0.000126\n",
       "04          0.000000  0.000000  0.000126\n",
       "06          0.002146  0.000379  0.000505\n",
       "07          0.001136  0.000379  0.000505\n",
       "08          0.002399  0.000884  0.002399\n",
       "09          0.000757  0.001136  0.002272\n",
       "10          0.002399  0.000757  0.002272\n",
       "11          0.001262  0.000884  0.000884\n",
       "12          0.000252  0.001010  0.001136\n",
       "13          0.000757  0.000884  0.001389\n",
       "14          0.000379  0.000252  0.001894\n",
       "15          0.000000  0.000000  0.000379\n",
       "20          0.000000  0.000126  0.000126\n",
       "21          0.000884  0.001010  0.001641\n",
       "22          0.000000  0.000631  0.000757\n",
       "23          0.000000  0.000252  0.000379"
      ]
     },
     "execution_count": 67,
     "metadata": {},
     "output_type": "execute_result"
    }
   ],
   "source": [
    "df_plot3"
   ]
  },
  {
   "cell_type": "code",
   "execution_count": 36,
   "id": "a1a69e31",
   "metadata": {},
   "outputs": [
    {
     "data": {
      "image/png": "[encoded data removed]",
      "text/plain": [
       "<Figure size 864x432 with 1 Axes>"
      ]
     },
     "metadata": {
      "needs_background": "light"
     },
     "output_type": "display_data"
    }
   ],
   "source": [
    "# Vẽ biểu đồ\n",
    "df_plot3.plot(y=['ATM', 'INTERNET', 'MOBILE'], figsize=(12, 6),marker='o')\n",
    "plt.title('Số lượng giao dịch trung bình trong ngày theo giờ')\n",
    "plt.ylabel('Số lượng giao dịch trung bình')\n",
    "plt.xlabel('Giờ giao dịch')\n",
    " \n",
    "plt.show()"
   ]
  },
  {
   "cell_type": "code",
   "execution_count": null,
   "id": "c49138ff",
   "metadata": {},
   "outputs": [],
   "source": []
  },
  {
   "cell_type": "code",
   "execution_count": null,
   "id": "21af9a62",
   "metadata": {},
   "outputs": [],
   "source": []
  },
  {
   "cell_type": "code",
   "execution_count": null,
   "id": "2b9aa7a8",
   "metadata": {},
   "outputs": [],
   "source": []
  }
 ],
 "metadata": {
  "kernelspec": {
   "display_name": "Python 3",
   "language": "python",
   "name": "python3"
  },
  "language_info": {
   "codemirror_mode": {
    "name": "ipython",
    "version": 3
   },
   "file_extension": ".py",
   "mimetype": "text/x-python",
   "name": "python",
   "nbconvert_exporter": "python",
   "pygments_lexer": "ipython3",
   "version": "3.8.8"
  }
 },
 "nbformat": 4,
 "nbformat_minor": 5
}
